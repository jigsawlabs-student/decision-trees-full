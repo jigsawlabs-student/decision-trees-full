{
 "cells": [
  {
   "cell_type": "markdown",
   "metadata": {},
   "source": [
    "# Decision Trees Lab"
   ]
  },
  {
   "cell_type": "markdown",
   "metadata": {},
   "source": [
    "## Introduction"
   ]
  },
  {
   "cell_type": "markdown",
   "metadata": {},
   "source": [
    "In this lesson, we'll begin using our decision tree algorithm to make predictions of movie revenue.  To do so, we'll use our IMDB dataset."
   ]
  },
  {
   "cell_type": "markdown",
   "metadata": {},
   "source": [
    "### Exploring our data"
   ]
  },
  {
   "cell_type": "markdown",
   "metadata": {},
   "source": [
    "Let's start by loading our data."
   ]
  },
  {
   "cell_type": "code",
   "execution_count": 3,
   "metadata": {},
   "outputs": [
    {
     "data": {
      "text/html": [
       "<div>\n",
       "<style scoped>\n",
       "    .dataframe tbody tr th:only-of-type {\n",
       "        vertical-align: middle;\n",
       "    }\n",
       "\n",
       "    .dataframe tbody tr th {\n",
       "        vertical-align: top;\n",
       "    }\n",
       "\n",
       "    .dataframe thead th {\n",
       "        text-align: right;\n",
       "    }\n",
       "</style>\n",
       "<table border=\"1\" class=\"dataframe\">\n",
       "  <thead>\n",
       "    <tr style=\"text-align: right;\">\n",
       "      <th></th>\n",
       "      <th>title</th>\n",
       "      <th>genre</th>\n",
       "      <th>budget</th>\n",
       "      <th>runtime</th>\n",
       "      <th>year</th>\n",
       "      <th>month</th>\n",
       "      <th>revenue</th>\n",
       "    </tr>\n",
       "  </thead>\n",
       "  <tbody>\n",
       "    <tr>\n",
       "      <th>0</th>\n",
       "      <td>Avatar</td>\n",
       "      <td>Action</td>\n",
       "      <td>237000000</td>\n",
       "      <td>162.0</td>\n",
       "      <td>2009</td>\n",
       "      <td>12</td>\n",
       "      <td>2787965087</td>\n",
       "    </tr>\n",
       "    <tr>\n",
       "      <th>1</th>\n",
       "      <td>Pirates of the Caribbean: At World's End</td>\n",
       "      <td>Adventure</td>\n",
       "      <td>300000000</td>\n",
       "      <td>169.0</td>\n",
       "      <td>2007</td>\n",
       "      <td>5</td>\n",
       "      <td>961000000</td>\n",
       "    </tr>\n",
       "    <tr>\n",
       "      <th>2</th>\n",
       "      <td>Spectre</td>\n",
       "      <td>Action</td>\n",
       "      <td>245000000</td>\n",
       "      <td>148.0</td>\n",
       "      <td>2015</td>\n",
       "      <td>10</td>\n",
       "      <td>880674609</td>\n",
       "    </tr>\n",
       "    <tr>\n",
       "      <th>3</th>\n",
       "      <td>The Dark Knight Rises</td>\n",
       "      <td>Action</td>\n",
       "      <td>250000000</td>\n",
       "      <td>165.0</td>\n",
       "      <td>2012</td>\n",
       "      <td>7</td>\n",
       "      <td>1084939099</td>\n",
       "    </tr>\n",
       "    <tr>\n",
       "      <th>4</th>\n",
       "      <td>John Carter</td>\n",
       "      <td>Action</td>\n",
       "      <td>260000000</td>\n",
       "      <td>132.0</td>\n",
       "      <td>2012</td>\n",
       "      <td>3</td>\n",
       "      <td>284139100</td>\n",
       "    </tr>\n",
       "  </tbody>\n",
       "</table>\n",
       "</div>"
      ],
      "text/plain": [
       "                                      title      genre     budget  runtime  \\\n",
       "0                                    Avatar     Action  237000000    162.0   \n",
       "1  Pirates of the Caribbean: At World's End  Adventure  300000000    169.0   \n",
       "2                                   Spectre     Action  245000000    148.0   \n",
       "3                     The Dark Knight Rises     Action  250000000    165.0   \n",
       "4                               John Carter     Action  260000000    132.0   \n",
       "\n",
       "   year  month     revenue  \n",
       "0  2009     12  2787965087  \n",
       "1  2007      5   961000000  \n",
       "2  2015     10   880674609  \n",
       "3  2012      7  1084939099  \n",
       "4  2012      3   284139100  "
      ]
     },
     "execution_count": 3,
     "metadata": {},
     "output_type": "execute_result"
    }
   ],
   "source": [
    "import pandas as pd\n",
    "movies_df = pd.read_csv('https://raw.githubusercontent.com/jigsawlabs-student/decision-trees-intro/master/3-practical-ds-4/imdb_movies.csv')\n",
    "movies_df[:5]"
   ]
  },
  {
   "cell_type": "markdown",
   "metadata": {},
   "source": [
    "Now let's use  `genre`, `budget`, `runtime`, `year`, and `month` as our features, and `revenue` as our target.  "
   ]
  },
  {
   "cell_type": "markdown",
   "metadata": {},
   "source": [
    "Assign `genre`, `budget`, `runtime`, `year` and `month` to the variable `X`."
   ]
  },
  {
   "cell_type": "code",
   "execution_count": 4,
   "metadata": {},
   "outputs": [],
   "source": [
    "feature_columns = ['genre', 'budget', 'runtime', 'year', 'month']\n",
    "X = movies_df[feature_columns]"
   ]
  },
  {
   "cell_type": "markdown",
   "metadata": {},
   "source": [
    "And assign revenue to the variable `y`."
   ]
  },
  {
   "cell_type": "code",
   "execution_count": 5,
   "metadata": {},
   "outputs": [],
   "source": [
    "y = movies_df.revenue"
   ]
  },
  {
   "cell_type": "code",
   "execution_count": 6,
   "metadata": {},
   "outputs": [
    {
     "data": {
      "text/plain": [
       "0    2787965087\n",
       "1     961000000\n",
       "Name: revenue, dtype: int64"
      ]
     },
     "execution_count": 6,
     "metadata": {},
     "output_type": "execute_result"
    }
   ],
   "source": [
    "y[:2]\n",
    "# 0    2787965087\n",
    "# 1     961000000\n",
    "# Name: revenue, dtype: int64"
   ]
  },
  {
   "cell_type": "code",
   "execution_count": 8,
   "metadata": {},
   "outputs": [
    {
     "data": {
      "text/html": [
       "<div>\n",
       "<style scoped>\n",
       "    .dataframe tbody tr th:only-of-type {\n",
       "        vertical-align: middle;\n",
       "    }\n",
       "\n",
       "    .dataframe tbody tr th {\n",
       "        vertical-align: top;\n",
       "    }\n",
       "\n",
       "    .dataframe thead th {\n",
       "        text-align: right;\n",
       "    }\n",
       "</style>\n",
       "<table border=\"1\" class=\"dataframe\">\n",
       "  <thead>\n",
       "    <tr style=\"text-align: right;\">\n",
       "      <th></th>\n",
       "      <th>genre</th>\n",
       "      <th>budget</th>\n",
       "      <th>runtime</th>\n",
       "      <th>year</th>\n",
       "      <th>month</th>\n",
       "    </tr>\n",
       "  </thead>\n",
       "  <tbody>\n",
       "    <tr>\n",
       "      <th>0</th>\n",
       "      <td>Action</td>\n",
       "      <td>237000000</td>\n",
       "      <td>162.0</td>\n",
       "      <td>2009</td>\n",
       "      <td>12</td>\n",
       "    </tr>\n",
       "    <tr>\n",
       "      <th>1</th>\n",
       "      <td>Adventure</td>\n",
       "      <td>300000000</td>\n",
       "      <td>169.0</td>\n",
       "      <td>2007</td>\n",
       "      <td>5</td>\n",
       "    </tr>\n",
       "  </tbody>\n",
       "</table>\n",
       "</div>"
      ],
      "text/plain": [
       "       genre     budget  runtime  year  month\n",
       "0     Action  237000000    162.0  2009     12\n",
       "1  Adventure  300000000    169.0  2007      5"
      ]
     },
     "execution_count": 8,
     "metadata": {},
     "output_type": "execute_result"
    }
   ],
   "source": [
    "X[:2]\n",
    "\n",
    "# genre\tbudget\truntime\tyear\tmonth\n",
    "# 0\tAction\t237000000\t162.0\t2009\t12\n",
    "# 1\tAdventure\t300000000\t169.0\t2007\t5"
   ]
  },
  {
   "cell_type": "markdown",
   "metadata": {},
   "source": [
    "### Changing the data"
   ]
  },
  {
   "cell_type": "markdown",
   "metadata": {},
   "source": [
    "Now currently the `genre` column is of type `object`. Let's use our LabelEncoder and DataFrameMapper to change it. "
   ]
  },
  {
   "cell_type": "code",
   "execution_count": 24,
   "metadata": {},
   "outputs": [],
   "source": [
    "# X['genre'].value_counts()"
   ]
  },
  {
   "cell_type": "code",
   "execution_count": 67,
   "metadata": {},
   "outputs": [
    {
     "name": "stderr",
     "output_type": "stream",
     "text": [
      "/Users/jeff/opt/anaconda3/lib/python3.7/site-packages/sklearn/preprocessing/label.py:235: DataConversionWarning: A column-vector y was passed when a 1d array was expected. Please change the shape of y to (n_samples, ), for example using ravel().\n",
      "  y = column_or_1d(y, warn=True)\n"
     ]
    }
   ],
   "source": [
    "from sklearn.preprocessing import LabelEncoder\n",
    "from sklearn.impute import SimpleImputer\n",
    "from sklearn_pandas import DataFrameMapper\n",
    "\n",
    "mapper = DataFrameMapper([\n",
    "    (['genre'], [SimpleImputer(strategy = 'constant', fill_value = 'na'), LabelEncoder()])\n",
    "], df_out = True, input_df = True)\n",
    "\n",
    "transformed_genre = mapper.fit_transform(X)"
   ]
  },
  {
   "cell_type": "markdown",
   "metadata": {},
   "source": [
    "Now if we want to see what genres were turned into what numbers we can do so with by selecting the labelencoder from our mapper, and then checking the `classes_` attribute.  Let's do it.  Begin by looking at the features of the model."
   ]
  },
  {
   "cell_type": "code",
   "execution_count": 69,
   "metadata": {},
   "outputs": [
    {
     "data": {
      "text/plain": [
       "[(['genre'],\n",
       "  [SimpleImputer(add_indicator=False, copy=True, fill_value='na',\n",
       "                 missing_values=nan, strategy='constant', verbose=0),\n",
       "   LabelEncoder()])]"
      ]
     },
     "execution_count": 69,
     "metadata": {},
     "output_type": "execute_result"
    }
   ],
   "source": [
    "mapper.features"
   ]
  },
  {
   "cell_type": "markdown",
   "metadata": {},
   "source": [
    "Now select the label encoder from the features."
   ]
  },
  {
   "cell_type": "code",
   "execution_count": 70,
   "metadata": {},
   "outputs": [
    {
     "data": {
      "text/plain": [
       "LabelEncoder()"
      ]
     },
     "execution_count": 70,
     "metadata": {},
     "output_type": "execute_result"
    }
   ],
   "source": [
    "encoder = mapper.features[-1][-1][-1]\n",
    "encoder\n",
    "# LabelEncoder()"
   ]
  },
  {
   "cell_type": "markdown",
   "metadata": {},
   "source": [
    "Finally, look at the encoder's classes."
   ]
  },
  {
   "cell_type": "code",
   "execution_count": 71,
   "metadata": {},
   "outputs": [
    {
     "data": {
      "text/plain": [
       "array(['Action', 'Adventure', 'Animation', 'Comedy', 'Crime', 'Drama',\n",
       "       'Fantasy', 'Horror', 'Romance', 'Science Fiction', 'Thriller',\n",
       "       'na'], dtype=object)"
      ]
     },
     "execution_count": 71,
     "metadata": {},
     "output_type": "execute_result"
    }
   ],
   "source": [
    "encoder.classes_"
   ]
  },
  {
   "cell_type": "markdown",
   "metadata": {},
   "source": [
    "We can then zip them together with a list of indices to create a dictionary telling us how to translate the column."
   ]
  },
  {
   "cell_type": "code",
   "execution_count": 72,
   "metadata": {},
   "outputs": [
    {
     "data": {
      "text/plain": [
       "{0: 'Action',\n",
       " 1: 'Adventure',\n",
       " 2: 'Animation',\n",
       " 3: 'Comedy',\n",
       " 4: 'Crime',\n",
       " 5: 'Drama',\n",
       " 6: 'Fantasy',\n",
       " 7: 'Horror',\n",
       " 8: 'Romance',\n",
       " 9: 'Science Fiction',\n",
       " 10: 'Thriller',\n",
       " 11: 'na'}"
      ]
     },
     "execution_count": 72,
     "metadata": {},
     "output_type": "execute_result"
    }
   ],
   "source": [
    "import numpy as np\n",
    "idcs = np.arange(0, len(encoder.classes_))\n",
    "dict(zip(idcs, encoder.classes_))"
   ]
  },
  {
   "cell_type": "markdown",
   "metadata": {},
   "source": [
    "### Training the Model"
   ]
  },
  {
   "cell_type": "markdown",
   "metadata": {},
   "source": [
    "Ok, now let's load up a `DecisionTreeRegressor`.  \n",
    "\n",
    "We use a DecisionTreeRegressor (as opposed to a DecisionTreeClassifier) because the revenue data is not just a $1$ or $0$, but potentially any value greater than 0.  So we have a regression problem."
   ]
  },
  {
   "cell_type": "code",
   "execution_count": 73,
   "metadata": {},
   "outputs": [],
   "source": [
    "from sklearn.tree import DecisionTreeRegressor"
   ]
  },
  {
   "cell_type": "markdown",
   "metadata": {},
   "source": [
    "Now follow the steps training a model.  Initialize our `DecisionTreeRegressor` and then fit the model."
   ]
  },
  {
   "cell_type": "code",
   "execution_count": 74,
   "metadata": {},
   "outputs": [],
   "source": [
    "model = DecisionTreeRegressor()"
   ]
  },
  {
   "cell_type": "code",
   "execution_count": 75,
   "metadata": {},
   "outputs": [
    {
     "data": {
      "text/plain": [
       "DecisionTreeRegressor(criterion='mse', max_depth=None, max_features=None,\n",
       "                      max_leaf_nodes=None, min_impurity_decrease=0.0,\n",
       "                      min_impurity_split=None, min_samples_leaf=1,\n",
       "                      min_samples_split=2, min_weight_fraction_leaf=0.0,\n",
       "                      presort=False, random_state=None, splitter='best')"
      ]
     },
     "execution_count": 75,
     "metadata": {},
     "output_type": "execute_result"
    }
   ],
   "source": [
    "model.fit(X, y)"
   ]
  },
  {
   "cell_type": "markdown",
   "metadata": {},
   "source": [
    "And finally, we can make a prediction, by passing through the features of an observation."
   ]
  },
  {
   "cell_type": "code",
   "execution_count": 76,
   "metadata": {},
   "outputs": [
    {
     "data": {
      "text/plain": [
       "array([2.78796509e+09])"
      ]
     },
     "execution_count": 76,
     "metadata": {},
     "output_type": "execute_result"
    }
   ],
   "source": [
    "observation = X[:1]\n",
    "\n",
    "model.predict(observation)"
   ]
  },
  {
   "cell_type": "markdown",
   "metadata": {},
   "source": [
    "We can also see the hypothesis function for our model."
   ]
  },
  {
   "cell_type": "code",
   "execution_count": 77,
   "metadata": {},
   "outputs": [
    {
     "data": {
      "image/svg+xml": [
       "<?xml version=\"1.0\" encoding=\"UTF-8\" standalone=\"no\"?>\n",
       "<!DOCTYPE svg PUBLIC \"-//W3C//DTD SVG 1.1//EN\"\n",
       " \"http://www.w3.org/Graphics/SVG/1.1/DTD/svg11.dtd\">\n",
       "<!-- Generated by graphviz version 2.43.0 (0)\n",
       " -->\n",
       "<!-- Title: Tree Pages: 1 -->\n",
       "<svg width=\"842pt\" height=\"344pt\"\n",
       " viewBox=\"0.00 0.00 842.00 344.00\" xmlns=\"http://www.w3.org/2000/svg\" xmlns:xlink=\"http://www.w3.org/1999/xlink\">\n",
       "<g id=\"graph0\" class=\"graph\" transform=\"scale(1 1) rotate(0) translate(4 340)\">\n",
       "<title>Tree</title>\n",
       "<polygon fill=\"white\" stroke=\"transparent\" points=\"-4,4 -4,-340 838,-340 838,4 -4,4\"/>\n",
       "<!-- 0 -->\n",
       "<g id=\"node1\" class=\"node\">\n",
       "<title>0</title>\n",
       "<polygon fill=\"none\" stroke=\"black\" points=\"502.53,-336 305.42,-336 305.42,-272 502.53,-272 502.53,-336\"/>\n",
       "<text text-anchor=\"middle\" x=\"403.97\" y=\"-320.8\" font-family=\"Times,serif\" font-size=\"14.00\">budget &lt;= 102500000.0</text>\n",
       "<text text-anchor=\"middle\" x=\"403.97\" y=\"-306.8\" font-family=\"Times,serif\" font-size=\"14.00\">mse = 4.779774067198597e+16</text>\n",
       "<text text-anchor=\"middle\" x=\"403.97\" y=\"-292.8\" font-family=\"Times,serif\" font-size=\"14.00\">samples = 2000</text>\n",
       "<text text-anchor=\"middle\" x=\"403.97\" y=\"-278.8\" font-family=\"Times,serif\" font-size=\"14.00\">value = 164350612.606</text>\n",
       "</g>\n",
       "<!-- 1 -->\n",
       "<g id=\"node2\" class=\"node\">\n",
       "<title>1</title>\n",
       "<polygon fill=\"none\" stroke=\"black\" points=\"397.03,-236 192.92,-236 192.92,-172 397.03,-172 397.03,-236\"/>\n",
       "<text text-anchor=\"middle\" x=\"294.97\" y=\"-220.8\" font-family=\"Times,serif\" font-size=\"14.00\">budget &lt;= 60500000.0</text>\n",
       "<text text-anchor=\"middle\" x=\"294.97\" y=\"-206.8\" font-family=\"Times,serif\" font-size=\"14.00\">mse = 1.7996870958248382e+16</text>\n",
       "<text text-anchor=\"middle\" x=\"294.97\" y=\"-192.8\" font-family=\"Times,serif\" font-size=\"14.00\">samples = 1724</text>\n",
       "<text text-anchor=\"middle\" x=\"294.97\" y=\"-178.8\" font-family=\"Times,serif\" font-size=\"14.00\">value = 112646268.774</text>\n",
       "</g>\n",
       "<!-- 0&#45;&gt;1 -->\n",
       "<g id=\"edge1\" class=\"edge\">\n",
       "<title>0&#45;&gt;1</title>\n",
       "<path fill=\"none\" stroke=\"black\" d=\"M369.49,-271.99C359.25,-262.79 347.91,-252.6 337.24,-243\"/>\n",
       "<polygon fill=\"black\" stroke=\"black\" points=\"339.39,-240.23 329.61,-236.14 334.71,-245.43 339.39,-240.23\"/>\n",
       "<text text-anchor=\"middle\" x=\"330.94\" y=\"-256.91\" font-family=\"Times,serif\" font-size=\"14.00\">True</text>\n",
       "</g>\n",
       "<!-- 3256 -->\n",
       "<g id=\"node9\" class=\"node\">\n",
       "<title>3256</title>\n",
       "<polygon fill=\"none\" stroke=\"black\" points=\"612.53,-236 415.42,-236 415.42,-172 612.53,-172 612.53,-236\"/>\n",
       "<text text-anchor=\"middle\" x=\"513.97\" y=\"-220.8\" font-family=\"Times,serif\" font-size=\"14.00\">budget &lt;= 182500000.0</text>\n",
       "<text text-anchor=\"middle\" x=\"513.97\" y=\"-206.8\" font-family=\"Times,serif\" font-size=\"14.00\">mse = 1.129402470843553e+17</text>\n",
       "<text text-anchor=\"middle\" x=\"513.97\" y=\"-192.8\" font-family=\"Times,serif\" font-size=\"14.00\">samples = 276</text>\n",
       "<text text-anchor=\"middle\" x=\"513.97\" y=\"-178.8\" font-family=\"Times,serif\" font-size=\"14.00\">value = 487315426.982</text>\n",
       "</g>\n",
       "<!-- 0&#45;&gt;3256 -->\n",
       "<g id=\"edge8\" class=\"edge\">\n",
       "<title>0&#45;&gt;3256</title>\n",
       "<path fill=\"none\" stroke=\"black\" d=\"M438.78,-271.99C449.11,-262.79 460.55,-252.6 471.32,-243\"/>\n",
       "<polygon fill=\"black\" stroke=\"black\" points=\"473.88,-245.41 479.02,-236.14 469.22,-240.18 473.88,-245.41\"/>\n",
       "<text text-anchor=\"middle\" x=\"477.58\" y=\"-256.9\" font-family=\"Times,serif\" font-size=\"14.00\">False</text>\n",
       "</g>\n",
       "<!-- 2 -->\n",
       "<g id=\"node3\" class=\"node\">\n",
       "<title>2</title>\n",
       "<polygon fill=\"none\" stroke=\"black\" points=\"175.92,-136 0.03,-136 0.03,-72 175.92,-72 175.92,-136\"/>\n",
       "<text text-anchor=\"middle\" x=\"87.97\" y=\"-120.8\" font-family=\"Times,serif\" font-size=\"14.00\">budget &lt;= 36750000.0</text>\n",
       "<text text-anchor=\"middle\" x=\"87.97\" y=\"-106.8\" font-family=\"Times,serif\" font-size=\"14.00\">mse = 9901454363896196.0</text>\n",
       "<text text-anchor=\"middle\" x=\"87.97\" y=\"-92.8\" font-family=\"Times,serif\" font-size=\"14.00\">samples = 1304</text>\n",
       "<text text-anchor=\"middle\" x=\"87.97\" y=\"-78.8\" font-family=\"Times,serif\" font-size=\"14.00\">value = 85531516.617</text>\n",
       "</g>\n",
       "<!-- 1&#45;&gt;2 -->\n",
       "<g id=\"edge2\" class=\"edge\">\n",
       "<title>1&#45;&gt;2</title>\n",
       "<path fill=\"none\" stroke=\"black\" d=\"M229.48,-171.99C208.33,-161.98 184.74,-150.81 162.96,-140.5\"/>\n",
       "<polygon fill=\"black\" stroke=\"black\" points=\"164.29,-137.26 153.75,-136.14 161.29,-143.58 164.29,-137.26\"/>\n",
       "</g>\n",
       "<!-- 2421 -->\n",
       "<g id=\"node6\" class=\"node\">\n",
       "<title>2421</title>\n",
       "<polygon fill=\"none\" stroke=\"black\" points=\"398.03,-136 193.92,-136 193.92,-72 398.03,-72 398.03,-136\"/>\n",
       "<text text-anchor=\"middle\" x=\"295.97\" y=\"-120.8\" font-family=\"Times,serif\" font-size=\"14.00\">runtime &lt;= 196.0</text>\n",
       "<text text-anchor=\"middle\" x=\"295.97\" y=\"-106.8\" font-family=\"Times,serif\" font-size=\"14.00\">mse = 3.3761471778467096e+16</text>\n",
       "<text text-anchor=\"middle\" x=\"295.97\" y=\"-92.8\" font-family=\"Times,serif\" font-size=\"14.00\">samples = 420</text>\n",
       "<text text-anchor=\"middle\" x=\"295.97\" y=\"-78.8\" font-family=\"Times,serif\" font-size=\"14.00\">value = 196831118.326</text>\n",
       "</g>\n",
       "<!-- 1&#45;&gt;2421 -->\n",
       "<g id=\"edge5\" class=\"edge\">\n",
       "<title>1&#45;&gt;2421</title>\n",
       "<path fill=\"none\" stroke=\"black\" d=\"M295.29,-171.99C295.37,-163.86 295.46,-154.96 295.55,-146.38\"/>\n",
       "<polygon fill=\"black\" stroke=\"black\" points=\"299.05,-146.18 295.66,-136.14 292.05,-146.11 299.05,-146.18\"/>\n",
       "</g>\n",
       "<!-- 3 -->\n",
       "<g id=\"node4\" class=\"node\">\n",
       "<title>3</title>\n",
       "<polygon fill=\"none\" stroke=\"black\" points=\"78.97,-36 24.97,-36 24.97,0 78.97,0 78.97,-36\"/>\n",
       "<text text-anchor=\"middle\" x=\"51.97\" y=\"-13.8\" font-family=\"Times,serif\" font-size=\"14.00\">(...)</text>\n",
       "</g>\n",
       "<!-- 2&#45;&gt;3 -->\n",
       "<g id=\"edge3\" class=\"edge\">\n",
       "<title>2&#45;&gt;3</title>\n",
       "<path fill=\"none\" stroke=\"black\" d=\"M74.57,-71.72C70.89,-63.14 66.94,-53.92 63.38,-45.62\"/>\n",
       "<polygon fill=\"black\" stroke=\"black\" points=\"66.59,-44.22 59.43,-36.4 60.16,-46.98 66.59,-44.22\"/>\n",
       "</g>\n",
       "<!-- 1282 -->\n",
       "<g id=\"node5\" class=\"node\">\n",
       "<title>1282</title>\n",
       "<polygon fill=\"none\" stroke=\"black\" points=\"150.97,-36 96.97,-36 96.97,0 150.97,0 150.97,-36\"/>\n",
       "<text text-anchor=\"middle\" x=\"123.97\" y=\"-13.8\" font-family=\"Times,serif\" font-size=\"14.00\">(...)</text>\n",
       "</g>\n",
       "<!-- 2&#45;&gt;1282 -->\n",
       "<g id=\"edge4\" class=\"edge\">\n",
       "<title>2&#45;&gt;1282</title>\n",
       "<path fill=\"none\" stroke=\"black\" d=\"M101.38,-71.72C105.06,-63.14 109.01,-53.92 112.56,-45.62\"/>\n",
       "<polygon fill=\"black\" stroke=\"black\" points=\"115.79,-46.98 116.51,-36.4 109.36,-44.22 115.79,-46.98\"/>\n",
       "</g>\n",
       "<!-- 2422 -->\n",
       "<g id=\"node7\" class=\"node\">\n",
       "<title>2422</title>\n",
       "<polygon fill=\"none\" stroke=\"black\" points=\"286.97,-36 232.97,-36 232.97,0 286.97,0 286.97,-36\"/>\n",
       "<text text-anchor=\"middle\" x=\"259.97\" y=\"-13.8\" font-family=\"Times,serif\" font-size=\"14.00\">(...)</text>\n",
       "</g>\n",
       "<!-- 2421&#45;&gt;2422 -->\n",
       "<g id=\"edge6\" class=\"edge\">\n",
       "<title>2421&#45;&gt;2422</title>\n",
       "<path fill=\"none\" stroke=\"black\" d=\"M282.57,-71.72C278.89,-63.14 274.94,-53.92 271.38,-45.62\"/>\n",
       "<polygon fill=\"black\" stroke=\"black\" points=\"274.59,-44.22 267.43,-36.4 268.16,-46.98 274.59,-44.22\"/>\n",
       "</g>\n",
       "<!-- 3255 -->\n",
       "<g id=\"node8\" class=\"node\">\n",
       "<title>3255</title>\n",
       "<polygon fill=\"none\" stroke=\"black\" points=\"358.97,-36 304.97,-36 304.97,0 358.97,0 358.97,-36\"/>\n",
       "<text text-anchor=\"middle\" x=\"331.97\" y=\"-13.8\" font-family=\"Times,serif\" font-size=\"14.00\">(...)</text>\n",
       "</g>\n",
       "<!-- 2421&#45;&gt;3255 -->\n",
       "<g id=\"edge7\" class=\"edge\">\n",
       "<title>2421&#45;&gt;3255</title>\n",
       "<path fill=\"none\" stroke=\"black\" d=\"M309.38,-71.72C313.06,-63.14 317.01,-53.92 320.56,-45.62\"/>\n",
       "<polygon fill=\"black\" stroke=\"black\" points=\"323.79,-46.98 324.51,-36.4 317.36,-44.22 323.79,-46.98\"/>\n",
       "</g>\n",
       "<!-- 3257 -->\n",
       "<g id=\"node10\" class=\"node\">\n",
       "<title>3257</title>\n",
       "<polygon fill=\"none\" stroke=\"black\" points=\"612,-136 415.94,-136 415.94,-72 612,-72 612,-136\"/>\n",
       "<text text-anchor=\"middle\" x=\"513.97\" y=\"-120.8\" font-family=\"Times,serif\" font-size=\"14.00\">budget &lt;= 149500000.0</text>\n",
       "<text text-anchor=\"middle\" x=\"513.97\" y=\"-106.8\" font-family=\"Times,serif\" font-size=\"14.00\">mse = 5.875933677111955e+16</text>\n",
       "<text text-anchor=\"middle\" x=\"513.97\" y=\"-92.8\" font-family=\"Times,serif\" font-size=\"14.00\">samples = 220</text>\n",
       "<text text-anchor=\"middle\" x=\"513.97\" y=\"-78.8\" font-family=\"Times,serif\" font-size=\"14.00\">value = 409530744.382</text>\n",
       "</g>\n",
       "<!-- 3256&#45;&gt;3257 -->\n",
       "<g id=\"edge9\" class=\"edge\">\n",
       "<title>3256&#45;&gt;3257</title>\n",
       "<path fill=\"none\" stroke=\"black\" d=\"M513.97,-171.99C513.97,-163.86 513.97,-154.96 513.97,-146.38\"/>\n",
       "<polygon fill=\"black\" stroke=\"black\" points=\"517.47,-146.14 513.97,-136.14 510.47,-146.14 517.47,-146.14\"/>\n",
       "</g>\n",
       "<!-- 3696 -->\n",
       "<g id=\"node13\" class=\"node\">\n",
       "<title>3696</title>\n",
       "<polygon fill=\"none\" stroke=\"black\" points=\"834.03,-136 629.92,-136 629.92,-72 834.03,-72 834.03,-136\"/>\n",
       "<text text-anchor=\"middle\" x=\"731.97\" y=\"-120.8\" font-family=\"Times,serif\" font-size=\"14.00\">runtime &lt;= 134.0</text>\n",
       "<text text-anchor=\"middle\" x=\"731.97\" y=\"-106.8\" font-family=\"Times,serif\" font-size=\"14.00\">mse = 2.0864339609503462e+17</text>\n",
       "<text text-anchor=\"middle\" x=\"731.97\" y=\"-92.8\" font-family=\"Times,serif\" font-size=\"14.00\">samples = 56</text>\n",
       "<text text-anchor=\"middle\" x=\"731.97\" y=\"-78.8\" font-family=\"Times,serif\" font-size=\"14.00\">value = 792898108.625</text>\n",
       "</g>\n",
       "<!-- 3256&#45;&gt;3696 -->\n",
       "<g id=\"edge12\" class=\"edge\">\n",
       "<title>3256&#45;&gt;3696</title>\n",
       "<path fill=\"none\" stroke=\"black\" d=\"M582.95,-171.99C605.32,-161.94 630.29,-150.71 653.31,-140.36\"/>\n",
       "<polygon fill=\"black\" stroke=\"black\" points=\"655.01,-143.43 662.7,-136.14 652.14,-137.05 655.01,-143.43\"/>\n",
       "</g>\n",
       "<!-- 3258 -->\n",
       "<g id=\"node11\" class=\"node\">\n",
       "<title>3258</title>\n",
       "<polygon fill=\"none\" stroke=\"black\" points=\"504.97,-36 450.97,-36 450.97,0 504.97,0 504.97,-36\"/>\n",
       "<text text-anchor=\"middle\" x=\"477.97\" y=\"-13.8\" font-family=\"Times,serif\" font-size=\"14.00\">(...)</text>\n",
       "</g>\n",
       "<!-- 3257&#45;&gt;3258 -->\n",
       "<g id=\"edge10\" class=\"edge\">\n",
       "<title>3257&#45;&gt;3258</title>\n",
       "<path fill=\"none\" stroke=\"black\" d=\"M500.57,-71.72C496.89,-63.14 492.94,-53.92 489.38,-45.62\"/>\n",
       "<polygon fill=\"black\" stroke=\"black\" points=\"492.59,-44.22 485.43,-36.4 486.16,-46.98 492.59,-44.22\"/>\n",
       "</g>\n",
       "<!-- 3521 -->\n",
       "<g id=\"node12\" class=\"node\">\n",
       "<title>3521</title>\n",
       "<polygon fill=\"none\" stroke=\"black\" points=\"576.97,-36 522.97,-36 522.97,0 576.97,0 576.97,-36\"/>\n",
       "<text text-anchor=\"middle\" x=\"549.97\" y=\"-13.8\" font-family=\"Times,serif\" font-size=\"14.00\">(...)</text>\n",
       "</g>\n",
       "<!-- 3257&#45;&gt;3521 -->\n",
       "<g id=\"edge11\" class=\"edge\">\n",
       "<title>3257&#45;&gt;3521</title>\n",
       "<path fill=\"none\" stroke=\"black\" d=\"M527.38,-71.72C531.06,-63.14 535.01,-53.92 538.56,-45.62\"/>\n",
       "<polygon fill=\"black\" stroke=\"black\" points=\"541.79,-46.98 542.51,-36.4 535.36,-44.22 541.79,-46.98\"/>\n",
       "</g>\n",
       "<!-- 3697 -->\n",
       "<g id=\"node14\" class=\"node\">\n",
       "<title>3697</title>\n",
       "<polygon fill=\"none\" stroke=\"black\" points=\"722.97,-36 668.97,-36 668.97,0 722.97,0 722.97,-36\"/>\n",
       "<text text-anchor=\"middle\" x=\"695.97\" y=\"-13.8\" font-family=\"Times,serif\" font-size=\"14.00\">(...)</text>\n",
       "</g>\n",
       "<!-- 3696&#45;&gt;3697 -->\n",
       "<g id=\"edge13\" class=\"edge\">\n",
       "<title>3696&#45;&gt;3697</title>\n",
       "<path fill=\"none\" stroke=\"black\" d=\"M718.57,-71.72C714.89,-63.14 710.94,-53.92 707.38,-45.62\"/>\n",
       "<polygon fill=\"black\" stroke=\"black\" points=\"710.59,-44.22 703.43,-36.4 704.16,-46.98 710.59,-44.22\"/>\n",
       "</g>\n",
       "<!-- 3748 -->\n",
       "<g id=\"node15\" class=\"node\">\n",
       "<title>3748</title>\n",
       "<polygon fill=\"none\" stroke=\"black\" points=\"794.97,-36 740.97,-36 740.97,0 794.97,0 794.97,-36\"/>\n",
       "<text text-anchor=\"middle\" x=\"767.97\" y=\"-13.8\" font-family=\"Times,serif\" font-size=\"14.00\">(...)</text>\n",
       "</g>\n",
       "<!-- 3696&#45;&gt;3748 -->\n",
       "<g id=\"edge14\" class=\"edge\">\n",
       "<title>3696&#45;&gt;3748</title>\n",
       "<path fill=\"none\" stroke=\"black\" d=\"M745.38,-71.72C749.06,-63.14 753.01,-53.92 756.56,-45.62\"/>\n",
       "<polygon fill=\"black\" stroke=\"black\" points=\"759.79,-46.98 760.51,-36.4 753.36,-44.22 759.79,-46.98\"/>\n",
       "</g>\n",
       "</g>\n",
       "</svg>\n"
      ],
      "text/plain": [
       "<graphviz.files.Source at 0x1046ef490>"
      ]
     },
     "execution_count": 77,
     "metadata": {},
     "output_type": "execute_result"
    }
   ],
   "source": [
    "from sklearn import tree\n",
    "from IPython.display import SVG, display\n",
    "from graphviz import Source \n",
    "\n",
    "Source(tree.export_graphviz(model, out_file = None, feature_names=X.columns, max_depth = 2))"
   ]
  },
  {
   "cell_type": "markdown",
   "metadata": {},
   "source": [
    "Let's interpret diagram above.  The `value` on the first node at the top, is the average revenue for all movies - `164350612` (at the bottom of the node).  The best split point for all of the data is the budget.  And then at the next level, we again split by the budget.\n",
    "\n",
    "In the third level, we see runtime show up as feature.  "
   ]
  },
  {
   "cell_type": "markdown",
   "metadata": {},
   "source": [
    "The decision tree continues beyond the image, but we only printed out three levels.  A complete mapping of the numbers to genres is provided below.  "
   ]
  },
  {
   "cell_type": "markdown",
   "metadata": {},
   "source": [
    "### Summary"
   ]
  },
  {
   "cell_type": "markdown",
   "metadata": {},
   "source": [
    "<center>\n",
    "<a href=\"https://www.jigsawlabs.io/free\" style=\"position: center\"><img src=\"https://storage.cloud.google.com/curriculum-assets/curriculum-assets.nosync/mom-files/jigsaw-labs.png\" width=\"15%\" style=\"text-align: center\"></a>\n",
    "</center>"
   ]
  }
 ],
 "metadata": {
  "kernelspec": {
   "display_name": "Python 3",
   "language": "python",
   "name": "python3"
  },
  "language_info": {
   "codemirror_mode": {
    "name": "ipython",
    "version": 3
   },
   "file_extension": ".py",
   "mimetype": "text/x-python",
   "name": "python",
   "nbconvert_exporter": "python",
   "pygments_lexer": "ipython3",
   "version": "3.7.4"
  }
 },
 "nbformat": 4,
 "nbformat_minor": 4
}
